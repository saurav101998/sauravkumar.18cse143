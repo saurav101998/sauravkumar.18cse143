{
 "cells": [
  {
   "cell_type": "markdown",
   "metadata": {},
   "source": [
    "# Assignment 1"
   ]
  },
  {
   "cell_type": "markdown",
   "metadata": {},
   "source": [
    "### Python code to find Mean Median and Mode without using library functions."
   ]
  },
  {
   "cell_type": "code",
   "execution_count": 2,
   "metadata": {},
   "outputs": [
    {
     "name": "stdout",
     "output_type": "stream",
     "text": [
      "Enter data 3 4 55 66 77 88 88 88 3 3 4\n",
      "The mean of entered data is: 43.54545454545455\n",
      "The median of entered data is: \n",
      "55\n",
      "The mode of entered data is: \n",
      "3 88 \n",
      "The variance of entered data is:  1431.1570247933885\n",
      "The standard deviation of entered data is:  37.83063606117915\n"
     ]
    }
   ],
   "source": [
    "import math\n",
    "\n",
    "l=list(map(int,input(\"Enter data \").split()))\n",
    "print(\"The mean of entered data is:\",sum(l)/len(l))\n",
    "\n",
    "print(\"The median of entered data is: \")\n",
    "if len(l)%2!=0:\n",
    "    print(sorted(l)[len(l)//2])\n",
    "else:\n",
    "    print((sorted(l)[len(l)//2]+sorted(l)[len(l)//2-1])/2)\n",
    "    \n",
    "    \n",
    "print(\"The mode of entered data is: \")\n",
    "v=0\n",
    "for i in set(l):\n",
    "    if l.count(i)>v:\n",
    "        v=l.count(i)\n",
    "for i in set(l):\n",
    "    if l.count(i)==v:\n",
    "        print(i,end=\" \")\n",
    "print() \n",
    "\n",
    "variance=sum((i-sum(l)/len(l))**2 for i in l)/len(l)\n",
    "\n",
    "print(\"The variance of entered data is: \",variance)\n",
    "\n",
    "print(\"The standard deviation of entered data is: \",math.sqrt(variance))"
   ]
  },
  {
   "cell_type": "markdown",
   "metadata": {},
   "source": [
    "### Python code to find Mean Median and Mode with using library functions."
   ]
  },
  {
   "cell_type": "code",
   "execution_count": 3,
   "metadata": {},
   "outputs": [
    {
     "name": "stdout",
     "output_type": "stream",
     "text": [
      "Enter data: 55 66 7 7 7 88 99 12 13 14 17\n",
      "The mean of entered data is:  35\n",
      "The median of entered data is:  14\n",
      "The mode of entered data is:  7\n",
      "The variance of entered data is:  1239.6\n",
      "The standard deviation of entered data is:  35.20795364686792\n"
     ]
    }
   ],
   "source": [
    "import math\n",
    "import statistics\n",
    "\n",
    "l=list(map(int,input(\"Enter data: \").split()))\n",
    "print(\"The mean of entered data is: \",statistics.mean(l))\n",
    "\n",
    "print(\"The median of entered data is: \",statistics.median(l))\n",
    "\n",
    "if len(l)==len(set(l)):\n",
    "    print(\"The mode of entered data is: \",*l)\n",
    "else:    \n",
    "    print(\"The mode of entered data is: \",statistics.mode(l))\n",
    "print(\"The variance of entered data is: \",statistics.variance(l))\n",
    "\n",
    "print(\"The standard deviation of entered data is: \",statistics.stdev(l))\n"
   ]
  },
  {
   "cell_type": "markdown",
   "metadata": {},
   "source": [
    "### Some problems related to List Tuple Dictionary and string"
   ]
  },
  {
   "cell_type": "markdown",
   "metadata": {},
   "source": [
    "## List"
   ]
  },
  {
   "cell_type": "code",
   "execution_count": 1,
   "metadata": {},
   "outputs": [
    {
     "name": "stdout",
     "output_type": "stream",
     "text": [
      "<class 'list'>\n",
      "[9, 7, 'shivani', 'kumari', 'kumari']\n"
     ]
    }
   ],
   "source": [
    "l=[9,7,\"shivani\",\"kumari\"]\n",
    "print(type(l))\n",
    "l.append(\"kumari\")\n",
    "print(l)"
   ]
  },
  {
   "cell_type": "markdown",
   "metadata": {},
   "source": [
    "## Tuple"
   ]
  },
  {
   "cell_type": "code",
   "execution_count": 5,
   "metadata": {},
   "outputs": [
    {
     "name": "stdout",
     "output_type": "stream",
     "text": [
      "<class 'tuple'>\n",
      "(1, 2, 5, 6, 9, 7, 1, 2, 5, 6, 9, 7, 1, 2, 5, 6, 9, 7)\n"
     ]
    }
   ],
   "source": [
    "t=(1,2,5,6,9,7)\n",
    "print(type(t))\n",
    "print(t*3)"
   ]
  },
  {
   "cell_type": "markdown",
   "metadata": {},
   "source": [
    "## Dictionary"
   ]
  },
  {
   "cell_type": "code",
   "execution_count": 2,
   "metadata": {},
   "outputs": [
    {
     "name": "stdout",
     "output_type": "stream",
     "text": [
      "{1: 'Shivani', 2: 'kumari', 'hello': 3, 'bye': 4}\n",
      "1 Shivani\n",
      "2 kumari\n",
      "hello 3\n",
      "bye 4\n"
     ]
    }
   ],
   "source": [
    "d={1:\"Shivani\",2:\"kumari\",\"hello\":3,\"bye\":4}\n",
    "print(d)\n",
    "for i in d:\n",
    "    print(i,d[i])"
   ]
  },
  {
   "cell_type": "markdown",
   "metadata": {},
   "source": [
    "## String"
   ]
  },
  {
   "cell_type": "code",
   "execution_count": 5,
   "metadata": {},
   "outputs": [
    {
     "name": "stdout",
     "output_type": "stream",
     "text": [
      "GIET University Gunupur\n"
     ]
    }
   ],
   "source": [
    "s1=\"GIET\"\n",
    "s2=\" University\"\n",
    "s3=\" Gunupur\"\n",
    "print(s1 + s2 +s3)"
   ]
  },
  {
   "cell_type": "code",
   "execution_count": null,
   "metadata": {},
   "outputs": [],
   "source": []
  }
 ],
 "metadata": {
  "kernelspec": {
   "display_name": "Python 3",
   "language": "python",
   "name": "python3"
  },
  "language_info": {
   "codemirror_mode": {
    "name": "ipython",
    "version": 3
   },
   "file_extension": ".py",
   "mimetype": "text/x-python",
   "name": "python",
   "nbconvert_exporter": "python",
   "pygments_lexer": "ipython3",
   "version": "3.7.4"
  }
 },
 "nbformat": 4,
 "nbformat_minor": 2
}
